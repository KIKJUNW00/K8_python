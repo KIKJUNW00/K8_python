{
  "cells": [
    {
      "cell_type": "markdown",
      "metadata": {
        "id": "ZYJeA4fpcGNk"
      },
      "source": [
        "# Lab"
      ]
    },
    {
      "cell_type": "markdown",
      "metadata": {
        "id": "AL3MoBZO5NpL"
      },
      "source": [
        "## 1. 정수 n을 입력받아 짝수인지 홀수인지 판단하는 함수를 작성하세요.\n",
        "\n",
        "\n"
      ]
    },
    {
      "cell_type": "code",
      "execution_count": 10,
      "metadata": {
        "colab": {
          "base_uri": "https://localhost:8080/"
        },
        "id": "SBUQ1WRTc1Nz",
        "outputId": "9b194b43-eb1d-4e88-ddda-4896e0b569a7"
      },
      "outputs": [
        {
          "name": "stdout",
          "output_type": "stream",
          "text": [
            "5 Odd\n",
            "2 Even\n",
            "-3 Odd\n",
            "-4 Even\n",
            "0 Even\n"
          ]
        }
      ],
      "source": [
        "def is_even_or_odd(n: int) -> str:\n",
        "  #implement your code\n",
        "  if n % 2 == 0:\n",
        "        return \"Even\"\n",
        "  else:\n",
        "        return \"Odd\"\n",
        "  pass\n",
        "\n",
        "input_data_even_odd = [5, 2, -3, -4, 0]\n",
        "output_data_even_odd = [\"Odd\", \"Even\", \"Odd\", \"Even\", \"Even\"]\n",
        "for i, o in zip(input_data_even_odd, output_data_even_odd):\n",
        "    assert is_even_or_odd(i) == o\n",
        "    # print(\"참\")\n",
        "    print(i,o)"
      ]
    },
    {
      "cell_type": "markdown",
      "metadata": {
        "id": "mGbPfQJEc5pl"
      },
      "source": [
        "## 2. 세 개의 정수 a, b, c를 입력받아 가장 큰 수를 반환하는 함수를 작성하세요."
      ]
    },
    {
      "cell_type": "code",
      "execution_count": 18,
      "metadata": {
        "colab": {
          "base_uri": "https://localhost:8080/"
        },
        "id": "mGAC-9rSc7Qd",
        "outputId": "9dcb2bb0-23ac-4ce5-b371-6944c5d1811c"
      },
      "outputs": [
        {
          "name": "stdout",
          "output_type": "stream",
          "text": [
            "(2, 4, 1) 4\n",
            "(1, 1, 1) 1\n",
            "(2, 2, 5) 5\n",
            "(-1, 0, -2) 0\n"
          ]
        }
      ],
      "source": [
        "def largest_of_three(a: int, b: int, c: int) -> int:\n",
        "  #implement your code\n",
        "  # if a >= b and a >= c:\n",
        "  #       return a\n",
        "  # elif b >= a and b >= c:\n",
        "  #       return b\n",
        "  # else:\n",
        "  #       return c\n",
        "  return max(a,b,c)\n",
        "  pass\n",
        "\n",
        "input_data_largest_of_three = [(2, 4, 1), (1, 1, 1), (2, 2, 5), (-1, 0, -2)]\n",
        "output_data_largest_of_three = [4, 1, 5, 0]\n",
        "\n",
        "for i, o in zip(input_data_largest_of_three, output_data_largest_of_three):\n",
        "    assert largest_of_three(*i) == o\n",
        "    print(i,o)"
      ]
    },
    {
      "cell_type": "markdown",
      "metadata": {
        "id": "INqFk2K5c7ks"
      },
      "source": [
        "## 3. 정수 n을 입력받아 3의 배수이면서 동시에 5의 배수인지 여부를 판단하는 함수를 작성하세요.\n",
        "\n"
      ]
    },
    {
      "cell_type": "code",
      "execution_count": 49,
      "metadata": {
        "colab": {
          "base_uri": "https://localhost:8080/"
        },
        "id": "B2c46qWfc8z0",
        "outputId": "7663e50e-a821-4e2d-de1c-b9c26ef78bed"
      },
      "outputs": [
        {
          "name": "stdout",
          "output_type": "stream",
          "text": [
            "15 True\n",
            "3 False\n",
            "5 False\n",
            "30 True\n",
            "0 True\n",
            "-15 True\n"
          ]
        }
      ],
      "source": [
        "def is_multiple_of_3_and_5(n: int) -> bool:\n",
        "  #implement your code\n",
        "  if n % 3 == 0 and n % 5 == 0 :\n",
        "    return True\n",
        "  else:\n",
        "    return False\n",
        "\n",
        "  pass\n",
        "\n",
        "input_data_multiple_3_5 = [15, 3, 5, 30, 0, -15]\n",
        "output_data_multiple_3_5 = [True, False, False, True, True, True]\n",
        "\n",
        "for input_value, output_value in zip(input_data_multiple_3_5, output_data_multiple_3_5):\n",
        "    assert is_multiple_of_3_and_5(input_value) == output_value\n",
        "    print(input_value,output_value)"
      ]
    },
    {
      "cell_type": "markdown",
      "metadata": {
        "id": "jAEoPcBXc9kM"
      },
      "source": [
        "## 4. 세 정수 a, b, c를 입력받아 피타고라스 정리(직각삼각형의 성립 조건: a² + b² = c²)를 만족하는지 확인하는 함수를 작성하세요. (단, a<=b<=c)"
      ]
    },
    {
      "cell_type": "code",
      "execution_count": 31,
      "metadata": {
        "colab": {
          "base_uri": "https://localhost:8080/"
        },
        "id": "nJN7nZ1Nc-ad",
        "outputId": "13e547d2-b209-45da-d289-b602398b667c"
      },
      "outputs": [
        {
          "name": "stdout",
          "output_type": "stream",
          "text": [
            "(3, 4, 5) True\n",
            "(5, 12, 13) True\n",
            "(6, 8, 10) True\n",
            "(7, 24, 25) True\n",
            "(2, 3, 4) False\n",
            "(0, 4, 4) False\n"
          ]
        }
      ],
      "source": [
        "def is_pythagorean_triple(a: int, b: int, c: int) -> bool:\n",
        "  #implement your code\n",
        "  # 입력값이 모두 양수인지 확인\n",
        "    if a <= 0 or b <= 0 or c <= 0:\n",
        "        return False\n",
        "\n",
        "    return a**2+b**2 ==c**2\n",
        "\n",
        "input_data_pythagorean_triple = [(3, 4, 5), (5, 12, 13), (6, 8, 10), (7, 24, 25), (2, 3, 4), (0, 4, 4)]\n",
        "output_data_pythagorean_triple = [True, True, True, True, False, False]\n",
        "\n",
        "for input_values, output_value in zip(input_data_pythagorean_triple, output_data_pythagorean_triple):\n",
        "    assert is_pythagorean_triple(*input_values) == output_value\n",
        "    print(input_values, output_value)"
      ]
    },
    {
      "cell_type": "markdown",
      "metadata": {
        "id": "EkRNBCyLctUY"
      },
      "source": [
        "## 5. 사용자로부터 몸무게(kg)와 키(m)를 입력받아 BMI를 계산하고, 해당하는 BMI 카테고리를 반환하는 함수를 작성하세요.\n",
        "\n",
        "* BMI 계산 공식: BMI = 몸무게(kg) / (키(m)²)\n",
        "\n",
        "### output\n",
        "* BMI < 18.5 : underweight\n",
        "* 18.5 <= BMI < 24.9 normal weight\n",
        "* 25.0 <= BMI overweight\n",
        "\n",
        "\n",
        "\n",
        "\n"
      ]
    },
    {
      "cell_type": "code",
      "execution_count": 60,
      "metadata": {
        "colab": {
          "base_uri": "https://localhost:8080/"
        },
        "id": "BxdeHEF_cB3C",
        "outputId": "5c8e743f-c179-487e-d172-d9fd491d86b4"
      },
      "outputs": [
        {
          "name": "stdout",
          "output_type": "stream",
          "text": [
            "(60, 1.7) Normal weight\n",
            "(45, 1.6) Underweight\n",
            "(85, 1.8) Overweight\n",
            "(100, 2) Overweight\n",
            "(0, 1.5) Underweight\n",
            "(60, 0) Invalid input\n"
          ]
        }
      ],
      "source": [
        "def calculate_bmi(weight: float, height: float) -> str:\n",
        "  #implement your code\n",
        "\n",
        "  if height <= 0 :\n",
        "     return \"Invalid input\"\n",
        "\n",
        "  BMI = weight / height**2\n",
        "\n",
        "  if BMI < 18.5 :\n",
        "    return \"Underweight\"\n",
        "  elif BMI >= 18.5 and BMI < 24.9 :\n",
        "    return \"Normal weight\"\n",
        "  elif BMI >= 25.0 :\n",
        "    return \"Overweight\"\n",
        "\n",
        "input_data_bmi_calculator = [(60, 1.7), (45, 1.6), (85, 1.8), (100, 2), (0, 1.5), (60, 0)]\n",
        "output_data_bmi_calculator = [\"Normal weight\", \"Underweight\", \"Overweight\", \"Overweight\", \"Underweight\", \"Invalid input\"]\n",
        "\n",
        "for input_values, output_value in zip(input_data_bmi_calculator, output_data_bmi_calculator):\n",
        "    assert calculate_bmi(*input_values) == output_value\n",
        "    print(input_values, output_value)"
      ]
    },
    {
      "cell_type": "markdown",
      "metadata": {
        "id": "tdJa-fe6Lu_N"
      },
      "source": [
        "## 6. 문자열 s를 입력받아, 그 문자열이 회문인지 여부를 확인하는 함수를 작성하세요.\n",
        "\n",
        "> 회문(Palindrome)은 앞뒤가 똑같이 읽히는 문자열을 의미합니다. 예를 들어, \"racecar\"나 \"madam\"은 회문이지만, \"hello\"나 \"world\"는 아닙니다."
      ]
    },
    {
      "cell_type": "code",
      "execution_count": 48,
      "metadata": {},
      "outputs": [
        {
          "data": {
            "text/plain": [
              "'olleh'"
            ]
          },
          "execution_count": 48,
          "metadata": {},
          "output_type": "execute_result"
        }
      ],
      "source": [
        "s='hello'\n",
        "s[::-1]\n"
      ]
    },
    {
      "cell_type": "code",
      "execution_count": 62,
      "metadata": {
        "colab": {
          "base_uri": "https://localhost:8080/"
        },
        "id": "4CuQ-rftL-3y",
        "outputId": "1e6ce7da-c297-4488-cb0b-51008b1e1037"
      },
      "outputs": [
        {
          "name": "stdout",
          "output_type": "stream",
          "text": [
            "racecar True\n",
            "madam True\n",
            "hello False\n",
            "level True\n",
            "world False\n",
            "noon True\n",
            "python False\n"
          ]
        }
      ],
      "source": [
        "def is_palindrome(s: str) -> bool:\n",
        "  #implement your code\n",
        "\n",
        "  if s == ''.join(reversed(s)):\n",
        "    return True\n",
        "  else:\n",
        "    return False\n",
        "\n",
        "input_data_palindrome_checker = [\"racecar\", \"madam\", \"hello\", \"level\", \"world\", \"noon\", \"python\"]\n",
        "output_data_palindrome_checker = [True, True, False, True, False, True, False]\n",
        "for input_value, output_value in zip(input_data_palindrome_checker, output_data_palindrome_checker):\n",
        "    assert is_palindrome(input_value) == output_value\n",
        "    print(input_value, output_value)"
      ]
    },
    {
      "cell_type": "markdown",
      "metadata": {
        "id": "dI9p5_rNec8G"
      },
      "source": [
        "## 7. 주어진 정수 limit와 divisor를 입력받아, 1부터 limit 사이의 숫자 중 divisor의 배수의 합을 반환하는 함수를 작성하세요. 이때, while 반복문을 사용하세요.\n"
      ]
    },
    {
      "cell_type": "code",
      "execution_count": 76,
      "metadata": {
        "colab": {
          "base_uri": "https://localhost:8080/"
        },
        "id": "nvheaxJOedT9",
        "outputId": "23e70986-fb1e-4d64-aec6-fa54115aa5da"
      },
      "outputs": [
        {
          "name": "stdout",
          "output_type": "stream",
          "text": [
            "(100, 7) 735\n",
            "(50, 5) 275\n",
            "(20, 3) 63\n"
          ]
        }
      ],
      "source": [
        "def sum_of_multiples(limit: int, divisor: int) -> int:\n",
        "  #implement your code\n",
        "  num = 0\n",
        "  total = 0\n",
        "  while num < limit :\n",
        "    num += 1\n",
        "    if num % divisor == 0:\n",
        "      total += num\n",
        "      continue\n",
        "    # print(total)\n",
        "  return total\n",
        "\n",
        "input_data_sum_of_multiples = [(100, 7), (50, 5), (20, 3)]\n",
        "output_data_sum_of_multiples = [735, 275, 63]\n",
        "\n",
        "for input_values, output_value in zip(input_data_sum_of_multiples, output_data_sum_of_multiples):\n",
        "    assert sum_of_multiples(*input_values) == output_value\n",
        "    print(input_values, output_value)\n"
      ]
    },
    {
      "cell_type": "markdown",
      "metadata": {
        "id": "wDOVnwLTee8p"
      },
      "source": [
        "##8. 정수 n을 입력받아, 해당 숫자의 구구단을 출력하는 함수를 for 반복문을 사용하여 작성하세요."
      ]
    },
    {
      "cell_type": "code",
      "execution_count": 97,
      "metadata": {
        "colab": {
          "base_uri": "https://localhost:8080/"
        },
        "id": "YeC_cgT3ee8q",
        "outputId": "e67694cf-be96-4c46-f812-ef3d4c1cf648"
      },
      "outputs": [
        {
          "name": "stdout",
          "output_type": "stream",
          "text": [
            "5 5 x 1 = 5\n",
            "5 x 2 = 10\n",
            "5 x 3 = 15\n",
            "5 x 4 = 20\n",
            "5 x 5 = 25\n",
            "5 x 6 = 30\n",
            "5 x 7 = 35\n",
            "5 x 8 = 40\n",
            "5 x 9 = 45\n",
            "7 7 x 1 = 7\n",
            "7 x 2 = 14\n",
            "7 x 3 = 21\n",
            "7 x 4 = 28\n",
            "7 x 5 = 35\n",
            "7 x 6 = 42\n",
            "7 x 7 = 49\n",
            "7 x 8 = 56\n",
            "7 x 9 = 63\n",
            "3 3 x 1 = 3\n",
            "3 x 2 = 6\n",
            "3 x 3 = 9\n",
            "3 x 4 = 12\n",
            "3 x 5 = 15\n",
            "3 x 6 = 18\n",
            "3 x 7 = 21\n",
            "3 x 8 = 24\n",
            "3 x 9 = 27\n",
            "10 10 x 1 = 10\n",
            "10 x 2 = 20\n",
            "10 x 3 = 30\n",
            "10 x 4 = 40\n",
            "10 x 5 = 50\n",
            "10 x 6 = 60\n",
            "10 x 7 = 70\n",
            "10 x 8 = 80\n",
            "10 x 9 = 90\n",
            "0 0 x 1 = 0\n",
            "0 x 2 = 0\n",
            "0 x 3 = 0\n",
            "0 x 4 = 0\n",
            "0 x 5 = 0\n",
            "0 x 6 = 0\n",
            "0 x 7 = 0\n",
            "0 x 8 = 0\n",
            "0 x 9 = 0\n",
            "-2 -2 x 1 = -2\n",
            "-2 x 2 = -4\n",
            "-2 x 3 = -6\n",
            "-2 x 4 = -8\n",
            "-2 x 5 = -10\n",
            "-2 x 6 = -12\n",
            "-2 x 7 = -14\n",
            "-2 x 8 = -16\n",
            "-2 x 9 = -18\n"
          ]
        }
      ],
      "source": [
        "def multiplication_table(n: int) -> str:\n",
        "  #implement your code\n",
        "  result = []  # 결과를 저장할 리스트 초기화\n",
        "\n",
        "  for i in range(1, 10):  # 1부터 9까지 반복\n",
        "        result.append(f\"{n} x {i} = {n * i}\")  # 문자열 형식으로 결과 추가\n",
        "        if i < 9:\n",
        "         result.append(f\"\\n\")\n",
        "  return ''.join(result)  # 리스트의 문자열을 연결하여 반환\n",
        "  # return '\\n'.join(result)  # 리스트의 문자열을 줄바꿈으로 연결하여 반환\n",
        "\n",
        "input_data_multiplication_table = [5, 7, 3, 10, 0, -2]\n",
        "output_data_multiplication_table = [\n",
        "    \"5 x 1 = 5\\n5 x 2 = 10\\n5 x 3 = 15\\n5 x 4 = 20\\n5 x 5 = 25\\n5 x 6 = 30\\n5 x 7 = 35\\n5 x 8 = 40\\n5 x 9 = 45\",\n",
        "    \"7 x 1 = 7\\n7 x 2 = 14\\n7 x 3 = 21\\n7 x 4 = 28\\n7 x 5 = 35\\n7 x 6 = 42\\n7 x 7 = 49\\n7 x 8 = 56\\n7 x 9 = 63\",\n",
        "    \"3 x 1 = 3\\n3 x 2 = 6\\n3 x 3 = 9\\n3 x 4 = 12\\n3 x 5 = 15\\n3 x 6 = 18\\n3 x 7 = 21\\n3 x 8 = 24\\n3 x 9 = 27\",\n",
        "    \"10 x 1 = 10\\n10 x 2 = 20\\n10 x 3 = 30\\n10 x 4 = 40\\n10 x 5 = 50\\n10 x 6 = 60\\n10 x 7 = 70\\n10 x 8 = 80\\n10 x 9 = 90\",\n",
        "    \"0 x 1 = 0\\n0 x 2 = 0\\n0 x 3 = 0\\n0 x 4 = 0\\n0 x 5 = 0\\n0 x 6 = 0\\n0 x 7 = 0\\n0 x 8 = 0\\n0 x 9 = 0\",\n",
        "    \"-2 x 1 = -2\\n-2 x 2 = -4\\n-2 x 3 = -6\\n-2 x 4 = -8\\n-2 x 5 = -10\\n-2 x 6 = -12\\n-2 x 7 = -14\\n-2 x 8 = -16\\n-2 x 9 = -18\",\n",
        "]\n",
        "\n",
        "for input_value, output_value in zip(input_data_multiplication_table, output_data_multiplication_table):\n",
        "    assert multiplication_table(input_value) == output_value\n",
        "    print(input_value, output_value)"
      ]
    },
    {
      "cell_type": "markdown",
      "metadata": {
        "id": "J5zjEzX3efP0"
      },
      "source": [
        "## 9. 양의 정수 n을 입력받아 소수인지 여부를 확인하는 함수를 작성하세요. 이때, for 반복문을 사용하세요."
      ]
    },
    {
      "cell_type": "code",
      "execution_count": 112,
      "metadata": {
        "colab": {
          "base_uri": "https://localhost:8080/"
        },
        "id": "Q7DxZNeGefP0",
        "outputId": "daebcc96-630b-49e3-e89c-dda92e403130"
      },
      "outputs": [
        {
          "name": "stdout",
          "output_type": "stream",
          "text": [
            "7 True\n",
            "12 False\n",
            "19 True\n",
            "2 True\n",
            "1 False\n",
            "0 False\n",
            "-3 False\n",
            "20 False\n"
          ]
        }
      ],
      "source": [
        "def is_prime(n: int) -> bool:\n",
        "  #implement your code\n",
        "    if n <= 1:\n",
        "        return False  # 1 이하의 숫자는 소수가 아님\n",
        "\n",
        "    # 2부터 n-1까지의 숫자로 나누어 떨어지는지 확인\n",
        "    for i in range(2, n):\n",
        "        if n % i == 0:\n",
        "            return False  # 나누어 떨어지면 소수가 아님\n",
        "\n",
        "    return True  # 나누어 떨어지지 않으면 소수\n",
        "\n",
        "\n",
        "input_data_prime_checker = [7, 12, 19, 2, 1, 0, -3, 20]\n",
        "output_data_prime_checker = [True, False, True, True, False, False, False, False]\n",
        "\n",
        "for input_value, output_value in zip(input_data_prime_checker, output_data_prime_checker):\n",
        "    assert is_prime(input_value) == output_value\n",
        "    print(input_value, output_value)"
      ]
    },
    {
      "cell_type": "markdown",
      "metadata": {
        "id": "P5k8YQd9dmUT"
      },
      "source": [
        "## 10. 문자열 s를 입력받아, 해당 문자열을 뒤집고, 그 문자열에 포함된 모음(a, e, i, o, u)의 개수를 반환하는 두 가지 함수를 작성하세요."
      ]
    },
    {
      "cell_type": "code",
      "execution_count": 29,
      "metadata": {
        "colab": {
          "base_uri": "https://localhost:8080/",
          "height": 110
        },
        "id": "EBIwt03Kdnpp",
        "outputId": "3e0d7358-4b96-45f2-cc88-08603220d046"
      },
      "outputs": [
        {
          "name": "stdout",
          "output_type": "stream",
          "text": [
            "hello ('olleh', 2)\n",
            "world ('dlrow', 1)\n",
            "python ('nohtyp', 1)\n",
            "aeiou ('uoiea', 5)\n",
            "empty ('ytpme', 1)\n",
            "hElLo ('oLlEh', 2)\n"
          ]
        }
      ],
      "source": [
        "def reverse(s: str) -> str:\n",
        "  #implement your code\n",
        "  return ''.join(reversed(s))\n",
        "\n",
        "def count_vowels(s :str) -> int:\n",
        "  #implement your code\n",
        "  vowels = ['a', 'e', 'i', 'o' , 'u']\n",
        "  cnt = 0\n",
        "  for char in s.lower():\n",
        "      if char in vowels:\n",
        "          cnt += 1\n",
        "  return cnt\n",
        "  \n",
        "  \n",
        "  \n",
        "\n",
        "\n",
        "input_data_string_reversal_vowel_count = [\"hello\", \"world\", \"python\", \"aeiou\", \"empty\", \"hElLo\"]\n",
        "output_data_string_reversal_vowel_count = [(\"olleh\", 2), (\"dlrow\", 1), (\"nohtyp\", 1), (\"uoiea\", 5), (\"ytpme\", 1), (\"oLlEh\", 2)]\n",
        "\n",
        "for input_value, output_value in zip(input_data_string_reversal_vowel_count, output_data_string_reversal_vowel_count):\n",
        "    assert (reverse(input_value), count_vowels(input_value)) == output_value\n",
        "    print(input_value, output_value)"
      ]
    },
    {
      "cell_type": "markdown",
      "metadata": {
        "id": "mPv8F8IDdsNB"
      },
      "source": [
        "## 11. 정수 n을 입력받아, 아래와 같은 패턴을 출력하는 함수를 작성하세요. 이때, 반복문을 사용하세요.\n",
        "\n",
        "n = 5\n",
        "```\n",
        "*****\n",
        " ****\n",
        "  ***\n",
        "   **\n",
        "    *\n",
        "```"
      ]
    },
    {
      "cell_type": "code",
      "execution_count": 16,
      "metadata": {},
      "outputs": [
        {
          "name": "stdout",
          "output_type": "stream",
          "text": [
            "*****\n",
            " ****\n",
            "  ***\n",
            "   **\n",
            "    *\n"
          ]
        }
      ],
      "source": [
        "for i in range(5):\n",
        "    for j in range(i): \n",
        "        print(\" \",end=\"\")\n",
        "    for j in range(5-i):\n",
        "        print(\"*\",end=\"\")\n",
        "    print()"
      ]
    },
    {
      "cell_type": "code",
      "execution_count": 32,
      "metadata": {
        "id": "tXDgAKGadyDx"
      },
      "outputs": [
        {
          "name": "stdout",
          "output_type": "stream",
          "text": [
            "5 *****\n",
            " ****\n",
            "  ***\n",
            "   **\n",
            "    *\n",
            "3 ***\n",
            " **\n",
            "  *\n",
            "6 ******\n",
            " *****\n",
            "  ****\n",
            "   ***\n",
            "    **\n",
            "     *\n",
            "1 *\n"
          ]
        }
      ],
      "source": [
        "def gen_pattern(n: int) -> str:\n",
        "  #implement your code\n",
        "  result=[]\n",
        "  for i in range(n):\n",
        "      result.append(\" \" * i)  # 공백 추가\n",
        "      result.append(\"*\" * (n - i))  # 별 추가\n",
        "      result.append(\"\\n\")  # 개행 추가\n",
        "  return \"\".join(result).rstrip()  # 리스트를 문자열로 합치고 마지막 개행 제거\n",
        "\n",
        "input_data_gen_pattern = [5, 3, 6, 1]\n",
        "output_data_gen_pattern = [\"*****\\n ****\\n  ***\\n   **\\n    *\",\n",
        "                           \"***\\n **\\n  *\",\n",
        "                           \"******\\n *****\\n  ****\\n   ***\\n    **\\n     *\",\n",
        "                           \"*\"]\n",
        "\n",
        "for input_value, output_value in zip(input_data_gen_pattern, output_data_gen_pattern):\n",
        "    assert gen_pattern(input_value) == output_value\n",
        "    print(input_value, output_value)"
      ]
    },
    {
      "cell_type": "markdown",
      "metadata": {
        "id": "aTfwJbtWeNxR"
      },
      "source": [
        "## 12. 다음의 메서드를 구현하세요:\n",
        "\n",
        "* add_item(item: str) -> None: 쇼핑 리스트에 항목 추가.\n",
        "* remove_item(item: str) -> None: 쇼핑 리스트에서 항목 제거.\n",
        "* display_list() -> List[str]: 현재 쇼핑 리스트 반환.\n",
        "quit() -> None: 쇼핑 리스트 종료.\n"
      ]
    },
    {
      "cell_type": "code",
      "execution_count": 39,
      "metadata": {
        "id": "APNy8a6ZeO6l"
      },
      "outputs": [
        {
          "name": "stdout",
          "output_type": "stream",
          "text": [
            "아이템 추가\n",
            "아이템 추가\n",
            "아이템 추가\n",
            "['apple', 'banana', 'orange']\n",
            "아이템제거\n",
            "['apple', 'orange']\n",
            "Exiting program...\n"
          ]
        }
      ],
      "source": [
        "from typing import List, Dict, Callable, Any\n",
        "\n",
        "items = []\n",
        "\n",
        "def add_item(item: str) -> None:\n",
        "    \"\"\"리스트에 아이템을 추가\"\"\"\n",
        "    items.append(item)\n",
        "    print(\"아이템 추가\")\n",
        "\n",
        "def remove_item(item: str) -> None:\n",
        "    \"\"\"리스트에서 아이템을 제거\"\"\"\n",
        "    if item in items:\n",
        "        items.remove(item)\n",
        "        print(\"아이템제거\")\n",
        "\n",
        "def display_list(item: str) -> List[str]:\n",
        "    \"\"\"리스트의 현재 상태를 반환\"\"\"\n",
        "    print(items)\n",
        "    return items\n",
        "\n",
        "def quit(item: str) -> None:\n",
        "    \"\"\"프로그램 종료 명령 처리\"\"\"\n",
        "    print(\"Exiting program...\")\n",
        "\n",
        "commands = {'add': add_item,\n",
        "            'remove': remove_item,\n",
        "            'display': display_list,\n",
        "            'exit': quit}\n",
        "\n",
        "input_data_shopping_list = [(\"add\", \"apple\"), (\"add\", \"banana\"),\n",
        "                            (\"add\", \"orange\"), (\"display\", ''),\n",
        "                            (\"remove\", \"banana\"), (\"display\", ''),\n",
        "                            (\"exit\", '')]\n",
        "\n",
        "output_data_shopping_list = [None, None,None,[\"apple\", \"banana\", \"orange\"], None,[\"apple\", \"orange\"],None]\n",
        "\n",
        "for (action, item), expected_output in zip(input_data_shopping_list, output_data_shopping_list):\n",
        "  assert commands[action](item) == expected_output\n"
      ]
    },
    {
      "cell_type": "code",
      "execution_count": null,
      "metadata": {},
      "outputs": [],
      "source": []
    }
  ],
  "metadata": {
    "colab": {
      "provenance": [],
      "toc_visible": true
    },
    "kernelspec": {
      "display_name": "Python 3",
      "name": "python3"
    },
    "language_info": {
      "codemirror_mode": {
        "name": "ipython",
        "version": 3
      },
      "file_extension": ".py",
      "mimetype": "text/x-python",
      "name": "python",
      "nbconvert_exporter": "python",
      "pygments_lexer": "ipython3",
      "version": "3.12.6"
    }
  },
  "nbformat": 4,
  "nbformat_minor": 0
}
